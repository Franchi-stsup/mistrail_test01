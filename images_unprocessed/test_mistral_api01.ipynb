{
 "cells": [
  {
   "cell_type": "code",
   "execution_count": 4,
   "metadata": {},
   "outputs": [
    {
     "name": "stdout",
     "output_type": "stream",
     "text": [
      "Choosing the \"best\" French cheese can be highly subjective, as it depends on personal taste preferences. France is renowned for its diverse and high-quality cheeses, with over 400 varieties. Here are a few highly regarded ones across different categories:\n",
      "\n",
      "1. **Soft Cheeses**:\n",
      "   - **Camembert de Normandie**: Known for its creamy texture and rich flavor.\n",
      "   - **Brie de Meaux**: A classic soft cheese with a buttery texture and earthy notes.\n",
      "\n",
      "2. **Semi-Soft Cheeses**:\n",
      "   - **Morbier**: A unique cheese with a layer of ash in the middle, offering a complex flavor profile.\n",
      "   - **Reblochon**: A nutty and slightly tangy cheese often used in dishes like tartiflette.\n",
      "\n",
      "3. **Hard Cheeses**:\n",
      "   - **Comté**: A nutty and slightly sweet cheese that's great for grating or eating on its own.\n",
      "   - **Beaufort**: Known for its rich, nutty flavor and firm texture.\n",
      "\n",
      "4. **Blue Cheeses**:\n",
      "   - **Roquefort**: One of the oldest known cheeses, with a strong, tangy flavor.\n",
      "   - **Bleu d'Auvergne**: A creamy blue cheese with a mild, slightly tangy flavor.\n",
      "\n",
      "5. **Goat Cheeses**:\n",
      "   - **Chèvre**: Fresh goat cheese with a tangy flavor, often used in salads or as a spread.\n",
      "   - **Sainte-Maure de Touraine**: A semi-soft goat cheese with a distinctive flavor and a central ash vein.\n",
      "\n",
      "Each of these cheeses has its own unique characteristics, and the \"best\" one ultimately depends on your personal taste. If you have the opportunity, trying a variety of French cheeses can be a delightful way to discover your favorite.\n"
     ]
    }
   ],
   "source": [
    "\n",
    "from mistralai import Mistral\n",
    "\n",
    "# Retrieve the API key from environment variables\n",
    "api_key = \"Rkpf5kjEcLHFFWPhOsQ5U9jEO7YyVQpA\"\n",
    "# Specify model\n",
    "model = \"mistral-small-latest\"\n",
    "\n",
    "# Initialize the Mistral client\n",
    "client = Mistral(api_key=api_key)\n",
    "\n",
    "chat_response = client.chat.complete(\n",
    "    model=model,\n",
    "    messages=[{\"role\":\"user\", \"content\":\"What is the best French cheese?\"}]\n",
    ")\n",
    "\n",
    "print(chat_response.choices[0].message.content)"
   ]
  },
  {
   "cell_type": "code",
   "execution_count": null,
   "metadata": {},
   "outputs": [
    {
     "name": "stdout",
     "output_type": "stream",
     "text": [
      "The last sentence in the document is:\n",
      "\n",
      "\"Zaremba, W., Sutskever, I., and Vinyals, O. Recurrent neural network regularization. arXiv:1409.2329, 2014.\"\n"
     ]
    }
   ],
   "source": [
    "import os\n",
    "from mistralai import Mistral\n",
    "\n",
    "\n",
    "# Specify model\n",
    "model = \"mistral-small-latest\"\n",
    "\n",
    "# Initialize the Mistral client\n",
    "client = Mistral(api_key=api_key)\n",
    "\n",
    "# Define the messages for the chat\n",
    "messages = [\n",
    "    {\n",
    "        \"role\": \"user\",\n",
    "        \"content\": [\n",
    "            {\n",
    "                \"type\": \"text\",\n",
    "                \"text\": \"what is the serial number in the document\"\n",
    "            },\n",
    "            {\n",
    "                \"type\": \"image_url\",\n",
    "                \"image_url\":\n",
    "            \"https://raw.githubusercontent.com/mistralai/cookbook/refs/heads/main/mistral/ocr/receipt.png\"\n",
    "            }\n",
    "        ]\n",
    "    }\n",
    "]\n",
    "\n",
    "# Get the chat response\n",
    "chat_response = client.chat.complete(\n",
    "    model=model,\n",
    "    messages=messages\n",
    ")\n",
    "\n",
    "# Print the content of the response\n",
    "print(chat_response.choices[0].message.content)\n",
    "\n",
    "# Output: \n",
    "# The last sentence in the document is:\\n\\n\\\"Zaremba, W., Sutskever, I., and Vinyals, O. Recurrent neural network regularization. arXiv:1409.2329, 2014."
   ]
  },
  {
   "cell_type": "code",
   "execution_count": 13,
   "metadata": {},
   "outputs": [
    {
     "name": "stdout",
     "output_type": "stream",
     "text": [
      "Path to the folder: c:\\Users\\franc\\Documents\\Perso\\Katana\\OCR\\Mistral_OCR\\images_unprocessed\n"
     ]
    },
    {
     "ename": "ValidationError",
     "evalue": "4 validation errors for Unmarshaller\nbody.ImageURLChunk.image_url\n  Field required [type=missing, input_value={'type': 'image_data', 'i...\\x0b\\x804\\xc3?\\xff\\xd9'}, input_type=dict]\n    For further information visit https://errors.pydantic.dev/2.11/v/missing\nbody.ImageURLChunk.type\n  Input should be 'image_url' [type=literal_error, input_value='image_data', input_type=str]\n    For further information visit https://errors.pydantic.dev/2.11/v/literal_error\nbody.DocumentURLChunk.document_url\n  Field required [type=missing, input_value={'type': 'image_data', 'i...\\x0b\\x804\\xc3?\\xff\\xd9'}, input_type=dict]\n    For further information visit https://errors.pydantic.dev/2.11/v/missing\nbody.DocumentURLChunk.type\n  Input should be 'document_url' [type=literal_error, input_value='image_data', input_type=str]\n    For further information visit https://errors.pydantic.dev/2.11/v/literal_error",
     "output_type": "error",
     "traceback": [
      "\u001b[31m---------------------------------------------------------------------------\u001b[39m",
      "\u001b[31mValidationError\u001b[39m                           Traceback (most recent call last)",
      "\u001b[36mCell\u001b[39m\u001b[36m \u001b[39m\u001b[32mIn[13]\u001b[39m\u001b[32m, line 21\u001b[39m\n\u001b[32m     18\u001b[39m     image_data = image_file.read()\n\u001b[32m     20\u001b[39m \u001b[38;5;66;03m# Prepare the request payload\u001b[39;00m\n\u001b[32m---> \u001b[39m\u001b[32m21\u001b[39m ocr_response = \u001b[43mclient\u001b[49m\u001b[43m.\u001b[49m\u001b[43mocr\u001b[49m\u001b[43m.\u001b[49m\u001b[43mprocess\u001b[49m\u001b[43m(\u001b[49m\n\u001b[32m     22\u001b[39m \u001b[43m    \u001b[49m\u001b[43mmodel\u001b[49m\u001b[43m=\u001b[49m\u001b[33;43m\"\u001b[39;49m\u001b[33;43mmistral-ocr-latest\u001b[39;49m\u001b[33;43m\"\u001b[39;49m\u001b[43m,\u001b[49m\n\u001b[32m     23\u001b[39m \u001b[43m    \u001b[49m\u001b[43mdocument\u001b[49m\u001b[43m=\u001b[49m\u001b[43m{\u001b[49m\n\u001b[32m     24\u001b[39m \u001b[43m        \u001b[49m\u001b[33;43m\"\u001b[39;49m\u001b[33;43mtype\u001b[39;49m\u001b[33;43m\"\u001b[39;49m\u001b[43m:\u001b[49m\u001b[43m \u001b[49m\u001b[33;43m\"\u001b[39;49m\u001b[33;43mimage_data\u001b[39;49m\u001b[33;43m\"\u001b[39;49m\u001b[43m,\u001b[49m\n\u001b[32m     25\u001b[39m \u001b[43m        \u001b[49m\u001b[33;43m\"\u001b[39;49m\u001b[33;43mimage_data\u001b[39;49m\u001b[33;43m\"\u001b[39;49m\u001b[43m:\u001b[49m\u001b[43m \u001b[49m\u001b[43mimage_data\u001b[49m\n\u001b[32m     26\u001b[39m \u001b[43m    \u001b[49m\u001b[43m}\u001b[49m\n\u001b[32m     27\u001b[39m \u001b[43m)\u001b[49m\n\u001b[32m     29\u001b[39m \u001b[38;5;66;03m# Process the response\u001b[39;00m\n\u001b[32m     30\u001b[39m \u001b[38;5;28mprint\u001b[39m(ocr_response)\n",
      "\u001b[36mFile \u001b[39m\u001b[32mc:\\Users\\franc\\anaconda3\\envs\\mistral_api\\Lib\\site-packages\\mistralai\\ocr.py:56\u001b[39m, in \u001b[36mOcr.process\u001b[39m\u001b[34m(self, model, document, id, pages, include_image_base64, image_limit, image_min_size, retries, server_url, timeout_ms, http_headers)\u001b[39m\n\u001b[32m     50\u001b[39m \u001b[38;5;28;01melse\u001b[39;00m:\n\u001b[32m     51\u001b[39m     base_url = \u001b[38;5;28mself\u001b[39m._get_url(base_url, url_variables)\n\u001b[32m     53\u001b[39m request = models.OCRRequest(\n\u001b[32m     54\u001b[39m     model=model,\n\u001b[32m     55\u001b[39m     \u001b[38;5;28mid\u001b[39m=\u001b[38;5;28mid\u001b[39m,\n\u001b[32m---> \u001b[39m\u001b[32m56\u001b[39m     document=\u001b[43mutils\u001b[49m\u001b[43m.\u001b[49m\u001b[43mget_pydantic_model\u001b[49m\u001b[43m(\u001b[49m\u001b[43mdocument\u001b[49m\u001b[43m,\u001b[49m\u001b[43m \u001b[49m\u001b[43mmodels\u001b[49m\u001b[43m.\u001b[49m\u001b[43mDocument\u001b[49m\u001b[43m)\u001b[49m,\n\u001b[32m     57\u001b[39m     pages=pages,\n\u001b[32m     58\u001b[39m     include_image_base64=include_image_base64,\n\u001b[32m     59\u001b[39m     image_limit=image_limit,\n\u001b[32m     60\u001b[39m     image_min_size=image_min_size,\n\u001b[32m     61\u001b[39m )\n\u001b[32m     63\u001b[39m req = \u001b[38;5;28mself\u001b[39m._build_request(\n\u001b[32m     64\u001b[39m     method=\u001b[33m\"\u001b[39m\u001b[33mPOST\u001b[39m\u001b[33m\"\u001b[39m,\n\u001b[32m     65\u001b[39m     path=\u001b[33m\"\u001b[39m\u001b[33m/v1/ocr\u001b[39m\u001b[33m\"\u001b[39m,\n\u001b[32m   (...)\u001b[39m\u001b[32m     79\u001b[39m     timeout_ms=timeout_ms,\n\u001b[32m     80\u001b[39m )\n\u001b[32m     82\u001b[39m \u001b[38;5;28;01mif\u001b[39;00m retries == UNSET:\n",
      "\u001b[36mFile \u001b[39m\u001b[32mc:\\Users\\franc\\anaconda3\\envs\\mistral_api\\Lib\\site-packages\\mistralai\\utils\\serializers.py:206\u001b[39m, in \u001b[36mget_pydantic_model\u001b[39m\u001b[34m(data, typ)\u001b[39m\n\u001b[32m    204\u001b[39m \u001b[38;5;28;01mdef\u001b[39;00m\u001b[38;5;250m \u001b[39m\u001b[34mget_pydantic_model\u001b[39m(data: Any, typ: Any) -> Any:\n\u001b[32m    205\u001b[39m     \u001b[38;5;28;01mif\u001b[39;00m \u001b[38;5;129;01mnot\u001b[39;00m _contains_pydantic_model(data):\n\u001b[32m--> \u001b[39m\u001b[32m206\u001b[39m         \u001b[38;5;28;01mreturn\u001b[39;00m \u001b[43munmarshal\u001b[49m\u001b[43m(\u001b[49m\u001b[43mdata\u001b[49m\u001b[43m,\u001b[49m\u001b[43m \u001b[49m\u001b[43mtyp\u001b[49m\u001b[43m)\u001b[49m\n\u001b[32m    208\u001b[39m     \u001b[38;5;28;01mreturn\u001b[39;00m data\n",
      "\u001b[36mFile \u001b[39m\u001b[32mc:\\Users\\franc\\anaconda3\\envs\\mistral_api\\Lib\\site-packages\\mistralai\\utils\\serializers.py:147\u001b[39m, in \u001b[36munmarshal\u001b[39m\u001b[34m(val, typ)\u001b[39m\n\u001b[32m    140\u001b[39m \u001b[38;5;28;01mdef\u001b[39;00m\u001b[38;5;250m \u001b[39m\u001b[34munmarshal\u001b[39m(val, typ: Any) -> Any:\n\u001b[32m    141\u001b[39m     unmarshaller = create_model(\n\u001b[32m    142\u001b[39m         \u001b[33m\"\u001b[39m\u001b[33mUnmarshaller\u001b[39m\u001b[33m\"\u001b[39m,\n\u001b[32m    143\u001b[39m         body=(typ, ...),\n\u001b[32m    144\u001b[39m         __config__=ConfigDict(populate_by_name=\u001b[38;5;28;01mTrue\u001b[39;00m, arbitrary_types_allowed=\u001b[38;5;28;01mTrue\u001b[39;00m),\n\u001b[32m    145\u001b[39m     )\n\u001b[32m--> \u001b[39m\u001b[32m147\u001b[39m     m = \u001b[43munmarshaller\u001b[49m\u001b[43m(\u001b[49m\u001b[43mbody\u001b[49m\u001b[43m=\u001b[49m\u001b[43mval\u001b[49m\u001b[43m)\u001b[49m\n\u001b[32m    149\u001b[39m     \u001b[38;5;66;03m# pyright: ignore[reportAttributeAccessIssue]\u001b[39;00m\n\u001b[32m    150\u001b[39m     \u001b[38;5;28;01mreturn\u001b[39;00m m.body\n",
      "\u001b[36mFile \u001b[39m\u001b[32mc:\\Users\\franc\\anaconda3\\envs\\mistral_api\\Lib\\site-packages\\pydantic\\main.py:253\u001b[39m, in \u001b[36mBaseModel.__init__\u001b[39m\u001b[34m(self, **data)\u001b[39m\n\u001b[32m    251\u001b[39m \u001b[38;5;66;03m# `__tracebackhide__` tells pytest and some other tools to omit this function from tracebacks\u001b[39;00m\n\u001b[32m    252\u001b[39m __tracebackhide__ = \u001b[38;5;28;01mTrue\u001b[39;00m\n\u001b[32m--> \u001b[39m\u001b[32m253\u001b[39m validated_self = \u001b[38;5;28;43mself\u001b[39;49m\u001b[43m.\u001b[49m\u001b[43m__pydantic_validator__\u001b[49m\u001b[43m.\u001b[49m\u001b[43mvalidate_python\u001b[49m\u001b[43m(\u001b[49m\u001b[43mdata\u001b[49m\u001b[43m,\u001b[49m\u001b[43m \u001b[49m\u001b[43mself_instance\u001b[49m\u001b[43m=\u001b[49m\u001b[38;5;28;43mself\u001b[39;49m\u001b[43m)\u001b[49m\n\u001b[32m    254\u001b[39m \u001b[38;5;28;01mif\u001b[39;00m \u001b[38;5;28mself\u001b[39m \u001b[38;5;129;01mis\u001b[39;00m \u001b[38;5;129;01mnot\u001b[39;00m validated_self:\n\u001b[32m    255\u001b[39m     warnings.warn(\n\u001b[32m    256\u001b[39m         \u001b[33m'\u001b[39m\u001b[33mA custom validator is returning a value other than `self`.\u001b[39m\u001b[38;5;130;01m\\n\u001b[39;00m\u001b[33m'\u001b[39m\n\u001b[32m    257\u001b[39m         \u001b[33m\"\u001b[39m\u001b[33mReturning anything other than `self` from a top level model validator isn\u001b[39m\u001b[33m'\u001b[39m\u001b[33mt supported when validating via `__init__`.\u001b[39m\u001b[38;5;130;01m\\n\u001b[39;00m\u001b[33m\"\u001b[39m\n\u001b[32m    258\u001b[39m         \u001b[33m'\u001b[39m\u001b[33mSee the `model_validator` docs (https://docs.pydantic.dev/latest/concepts/validators/#model-validators) for more details.\u001b[39m\u001b[33m'\u001b[39m,\n\u001b[32m    259\u001b[39m         stacklevel=\u001b[32m2\u001b[39m,\n\u001b[32m    260\u001b[39m     )\n",
      "\u001b[31mValidationError\u001b[39m: 4 validation errors for Unmarshaller\nbody.ImageURLChunk.image_url\n  Field required [type=missing, input_value={'type': 'image_data', 'i...\\x0b\\x804\\xc3?\\xff\\xd9'}, input_type=dict]\n    For further information visit https://errors.pydantic.dev/2.11/v/missing\nbody.ImageURLChunk.type\n  Input should be 'image_url' [type=literal_error, input_value='image_data', input_type=str]\n    For further information visit https://errors.pydantic.dev/2.11/v/literal_error\nbody.DocumentURLChunk.document_url\n  Field required [type=missing, input_value={'type': 'image_data', 'i...\\x0b\\x804\\xc3?\\xff\\xd9'}, input_type=dict]\n    For further information visit https://errors.pydantic.dev/2.11/v/missing\nbody.DocumentURLChunk.type\n  Input should be 'document_url' [type=literal_error, input_value='image_data', input_type=str]\n    For further information visit https://errors.pydantic.dev/2.11/v/literal_error"
     ]
    }
   ],
   "source": [
    "import os\n",
    "import requests\n",
    "\n",
    "# Get the current working directory\n",
    "current_directory = os.getcwd()\n",
    "\n",
    "# Define the folder name you want to access\n",
    "folder_name = 'images_unprocessed'\n",
    "\n",
    "# Construct the full path to the folder\n",
    "folder_path = os.path.join(current_directory, folder_name)\n",
    "\n",
    "# Print the folder path\n",
    "print(\"Path to the folder:\", folder_path)\n",
    "\n",
    "# Read the local image file\n",
    "with open(folder_path+r'\\fujitsu_HDD.jpg', 'rb') as image_file:\n",
    "    image_data = image_file.read()\n",
    "\n",
    "# Prepare the request payload\n",
    "ocr_response = client.ocr.process(\n",
    "    model=\"mistral-ocr-latest\",\n",
    "    document={\n",
    "        \"type\": \"image_data\",\n",
    "        \"image_data\": image_data\n",
    "    }\n",
    ")\n",
    "\n",
    "# Process the response\n",
    "print(ocr_response)"
   ]
  }
 ],
 "metadata": {
  "kernelspec": {
   "display_name": "mistral_api",
   "language": "python",
   "name": "python3"
  },
  "language_info": {
   "codemirror_mode": {
    "name": "ipython",
    "version": 3
   },
   "file_extension": ".py",
   "mimetype": "text/x-python",
   "name": "python",
   "nbconvert_exporter": "python",
   "pygments_lexer": "ipython3",
   "version": "3.11.11"
  }
 },
 "nbformat": 4,
 "nbformat_minor": 2
}
